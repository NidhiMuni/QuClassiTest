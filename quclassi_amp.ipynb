{
 "cells": [
  {
   "cell_type": "markdown",
   "id": "dd3275f0-77fb-4b5d-83fc-0ab62e99b762",
   "metadata": {},
   "source": [
    "#### Imports "
   ]
  },
  {
   "cell_type": "code",
   "execution_count": 87,
   "id": "0d8db246-15b6-4254-af4b-b796c13d2c73",
   "metadata": {},
   "outputs": [],
   "source": [
    "import numpy as np\n",
    "import matplotlib.pyplot as plt\n",
    "import seaborn as sns\n",
    "from sklearn import datasets\n",
    "from qiskit import QuantumRegister, ClassicalRegister\n",
    "from qiskit import QuantumCircuit\n",
    "from qiskit import Aer, execute\n",
    "from math import pi,log\n",
    "from qiskit import *\n",
    "import time\n",
    "import numpy as np\n",
    "import tensorflow as tf\n",
    "import seaborn as sns\n",
    "import matplotlib.pyplot as plt\n",
    "from sklearn.decomposition import PCA\n",
    "import tensorflow as tf\n",
    "import numpy as np\n",
    "from qiskit import Aer, IBMQ\n",
    "import os\n",
    "from datetime import datetime\n",
    "from qiskit.extensions import UnitaryGate\n",
    "import scipy\n",
    "from scipy.stats import entropy\n",
    "from sklearn.metrics import log_loss"
   ]
  },
  {
   "cell_type": "markdown",
   "id": "0347631a-5ad7-4d1f-b8aa-cf54c64f51aa",
   "metadata": {},
   "source": [
    "#### Running and Saving Details"
   ]
  },
  {
   "cell_type": "code",
   "execution_count": 88,
   "id": "0fe356ce-9551-4092-8cfc-e65c5d462377",
   "metadata": {},
   "outputs": [],
   "source": [
    "# Network saving and loading\n",
    "epoch = 25\n",
    "runtime_name = datetime.now().strftime(\"Date-%d%m%y--Hours-%H%M\")\n",
    "runtime_name += \"-epoch-{}\".format(epoch)\n",
    "os.mkdir(runtime_name)\n",
    "backend = Aer.get_backend('qasm_simulator')"
   ]
  },
  {
   "cell_type": "markdown",
   "id": "a7272c0a-cb8a-4145-8c1c-a5dc86eb99a7",
   "metadata": {},
   "source": [
    "#### Get Data"
   ]
  },
  {
   "cell_type": "code",
   "execution_count": 89,
   "id": "df9fde07-43d9-41bc-bdf7-d8c4b3ffe6aa",
   "metadata": {},
   "outputs": [],
   "source": [
    "# Subsample to SUBSAMPLE datapoints. This is due to computational cost.\n",
    "# Chance SUBSAMPLE to what best suits your computer, to make a reasonable training time.\n",
    "test_images,test_labels = tf.keras.datasets.mnist.load_data()\n",
    "train_images = test_images[0].reshape(60000,784)\n",
    "train_labels = test_images[1]\n",
    "labels = test_images[1]\n",
    "train_images = train_images/255\n",
    "k=4\n",
    "pca = PCA(n_components=k)\n",
    "pca.fit(train_images)\n",
    "\n",
    "# Computational cost is high for 60,000 data points. Change 6000 to what your system can handle\n",
    "SUBSAMPLE = 1000\n",
    "pca_data = pca.transform(train_images)[:SUBSAMPLE]\n",
    "train_labels = train_labels[:SUBSAMPLE]\n",
    "t_pca_data = pca_data.copy()\n",
    "pca_descaler = [[] for _ in range(k)]"
   ]
  },
  {
   "cell_type": "markdown",
   "id": "8ce180a4-aba3-4a32-94aa-b9263de290d4",
   "metadata": {},
   "source": [
    "### <font color='green'> Data Transformation"
   ]
  },
  {
   "cell_type": "markdown",
   "id": "fc258c18-80bc-4059-9860-87814d77f725",
   "metadata": {},
   "source": [
    "<font color='green'> Changes made: no rotations or squaring before filtering out unused data."
   ]
  },
  {
   "cell_type": "code",
   "execution_count": 90,
   "id": "0308c017-b195-464c-b00f-f53b830e1b85",
   "metadata": {},
   "outputs": [],
   "source": [
    "# Data Transformation Section\n",
    "for i in range(k):\n",
    "    if pca_data[:,i].min() < 0:\n",
    "        pca_descaler[i].append(pca_data[:,i].min())\n",
    "        pca_data[:,i] += np.abs(pca_data[:,i].min())\n",
    "    else:\n",
    "        pca_descaler[i].append(pca_data[:,i].min())\n",
    "        pca_data[:,i] -= pca_data[:,i].min()\n",
    "    pca_descaler[i].append(pca_data[:,i].max())\n",
    "    pca_data[:,i] /= pca_data[:,i].max()\n",
    "\n",
    "#CHANGE\n",
    "# pca_data_rot= np.sqrt(pca_data)\n",
    "pca_data_rot= pca_data\n",
    "\n",
    "valid_labels = None\n",
    "valid_labels = train_labels==3\n",
    "valid_labels += train_labels == 6\n",
    "\n",
    "for col in range(pca_data.shape[1]):\n",
    "    t_data_mean = pca_data[:,col].mean()\n",
    "    t_data_std = pca_data[:,col].std()\n",
    "    valid_upper_bound = pca_data[:,col] < t_data_mean+t_data_std\n",
    "    valid_lower_bound = pca_data[:,col] > t_data_mean-t_data_std\n",
    "    valid = np.logical_and(valid_upper_bound,valid_lower_bound)\n",
    "    pca_data = pca_data[valid]\n",
    "\n",
    "pca_data_rot3 = pca_data_rot[train_labels==3]\n",
    "pca_data_rot6 = pca_data_rot[train_labels==6]"
   ]
  },
  {
   "cell_type": "markdown",
   "id": "fece1d78-92d2-43f6-8e0d-6562bfe3703e",
   "metadata": {},
   "source": [
    "#### Utils"
   ]
  },
  {
   "cell_type": "code",
   "execution_count": 91,
   "id": "e1b70284-5cea-46d7-af48-3d007413f211",
   "metadata": {},
   "outputs": [],
   "source": [
    "# Checkpointing code\n",
    "def save_variables(var_dict, epoch, number_class):\n",
    "    with open(f\"{runtime_name}/Epoch-{epoch}-Variables-numbers-{number_class}\", 'w') as file:\n",
    "        file.write(str(var_dict))\n",
    "\n",
    "# Ran_ang returns a random angle\n",
    "def ran_ang():\n",
    "    return np.random.rand() * 2 * np.pi\n",
    "\n",
    "\n",
    "def single_qubit_unitary(circ_ident, qubit_index, values):\n",
    "    circ_ident.ry(values[0], qubit_index)\n",
    "    circ_ident.rz(values[1], qubit_index)\n",
    "\n",
    "\n",
    "def dual_qubit_unitary(circ_ident, qubit_1, qubit_2, values):\n",
    "    circ_ident.ryy(values[0], qubit_1, qubit_2)\n",
    "    circ_ident.rzz(values[1], qubit_1, qubit_2)\n",
    "\n",
    "\n",
    "def controlled_dual_qubit_unitary(circ_ident, control_qubit, act_qubit, values):\n",
    "    circ_ident.cry(values[0], control_qubit, act_qubit)\n",
    "    circ_ident.crz(values[1], control_qubit, act_qubit)\n",
    "\n",
    "\n",
    "def traditional_learning_layer(circ_ident, num_qubits, values, style=\"Dual\", qubit_start=1, qubit_end=5):\n",
    "    if style == \"Dual\":\n",
    "        for qub in np.arange(qubit_start, qubit_end):\n",
    "            single_qubit_unitary(circ_ident, qub, values[str(qub)])\n",
    "        for qub in np.arange(qubit_start, qubit_end - 1):\n",
    "            dual_qubit_unitary(circ_ident, qub, qub + 1, values[str(qub) + \",\" + str(qub + 1)])\n",
    "    elif style == \"Single\":\n",
    "        for qub in np.arange(qubit_start, qubit_end):\n",
    "            single_qubit_unitary(circ_ident, qub, values[str(qub)])\n",
    "    elif style == \"Controlled-Dual\":\n",
    "        for qub in np.arange(qubit_start, qubit_end):\n",
    "            single_qubit_unitary(circ_ident, qub, values[str(qub)])\n",
    "        for qub in np.arange(qubit_start, qubit_end - 1):\n",
    "            dual_qubit_unitary(circ_ident, qub, qub + 1, values[str(qub) + \",\" + str(qub + 1)])\n",
    "        for qub in np.arange(qubit_start, qubit_end - 1):\n",
    "            controlled_dual_qubit_unitary(circ_ident, qub, qub + 1, values[str(qub) + \"--\" + str(qub + 1)])\n",
    "\n",
    "\n",
    "def swap_test(circ_ident, num_qubits):\n",
    "    num_swap = num_qubits // 2\n",
    "    for i in range(num_swap):\n",
    "        circ_ident.cswap(0, i + 1, i + num_swap + 1)\n",
    "    circ_ident.h(0)\n",
    "    circ_ident.measure(0, 0)\n",
    "\n",
    "\n",
    "def init_random_variables(q, style):\n",
    "    trainable_variables = {}\n",
    "    if style == \"Single\":\n",
    "        for i in np.arange(1, q + 1):\n",
    "            trainable_variables[str(i)] = [ran_ang(), ran_ang()]\n",
    "    elif style == \"Dual\":\n",
    "        for i in np.arange(1, q + 1):\n",
    "            trainable_variables[str(i)] = [ran_ang(), ran_ang()]\n",
    "            if i != q:\n",
    "                trainable_variables[str(i) + \",\" + str(i + 1)] = [ran_ang(), ran_ang()]\n",
    "    elif style == \"Controlled-Dual\":\n",
    "        for i in np.arange(1, q + 1):\n",
    "            trainable_variables[str(i)] = [ran_ang(), ran_ang()]\n",
    "            if i != q:\n",
    "                trainable_variables[str(i) + \",\" + str(i + 1)] = [ran_ang(), ran_ang()]\n",
    "                trainable_variables[str(i) + \"--\" + str(i + 1)] = [ran_ang(), ran_ang()]\n",
    "    return trainable_variables\n",
    "\n",
    "\n",
    "def init_gradient_variables(q, style):\n",
    "    trainable_variables = {}\n",
    "    if style == \"Single\":\n",
    "        for i in np.arange(1, q + 1):\n",
    "            trainable_variables[str(i)] = [[], []]\n",
    "    elif style == \"Dual\":\n",
    "        for i in np.arange(1, q + 1):\n",
    "            trainable_variables[str(i)] = [[], []]\n",
    "            if i != q:\n",
    "                trainable_variables[str(i) + \",\" + str(i + 1)] = [[], []]\n",
    "    elif style == \"Controlled-Dual\":\n",
    "        for i in np.arange(1, q + 1):\n",
    "            trainable_variables[str(i)] = [0, 0]\n",
    "            if i != q:\n",
    "                trainable_variables[str(i) + \",\" + str(i + 1)] = [[], []]\n",
    "                trainable_variables[str(i) + \"--\" + str(i + 1)] = [[], []]\n",
    "    return trainable_variables\n",
    "\n",
    "\n",
    "def get_probabilities(circ, count=10000, inducing=False):\n",
    "    if inducing == True:\n",
    "        count *= 10\n",
    "    job = execute(circ, backend, shots=count)\n",
    "    results = job.result().get_counts(circ)    \n",
    "    try:\n",
    "        prob = results['0'] / (results['1'] + results['0'])\n",
    "        prob = (prob - 0.5)\n",
    "        if prob <= 0:\n",
    "            prob = 1e-16\n",
    "        else:\n",
    "            prob = prob * 2\n",
    "    except:\n",
    "        prob = 1\n",
    "    return prob\n",
    "\n",
    "\n",
    "\n",
    "# Define loss function. SWAP Test returns probability, so minmax probability is logical\n",
    "def cost_function(p, yreal):\n",
    "    if yreal == 1:\n",
    "        return -np.log(p)\n",
    "    else:\n",
    "        return -np.log(1 - p)\n",
    "\n",
    "\n",
    "def update_weights(init_value, lr, grad):\n",
    "    while lr * grad > 2 * np.pi:\n",
    "        lr /= 10\n",
    "        print(\"Warning - Gradient taking steps that are very large. Drop learning rate\")\n",
    "    weight_update = lr * grad\n",
    "    new_value = init_value\n",
    "    if new_value - weight_update > 2 * np.pi:\n",
    "        new_value = (new_value - weight_update) - 2 * np.pi\n",
    "    elif new_value - weight_update < 0:\n",
    "        new_value = (new_value - weight_update) + 2 * np.pi\n",
    "    else:\n",
    "        new_value = new_value - weight_update\n",
    "    return new_value"
   ]
  },
  {
   "cell_type": "markdown",
   "id": "f55421af-fa1d-49c1-87bc-a828506b5e9d",
   "metadata": {},
   "source": [
    "### <font color='green'> Encode Data</font>"
   ]
  },
  {
   "cell_type": "markdown",
   "id": "a35910da-c633-4605-acda-a87b8e3f83a4",
   "metadata": {},
   "source": [
    "<font color='green'>Fully changed</font>"
   ]
  },
  {
   "cell_type": "code",
   "execution_count": 92,
   "id": "42086ed7-f926-405c-9937-d964101d7e00",
   "metadata": {},
   "outputs": [],
   "source": [
    "def data_loading_circuit(circ_ident, num_qubits, values, qubit_start=1, qubit_end=5):\n",
    "    #normalize the vector \n",
    "    values_sq = np.square(values)\n",
    "    norm = np.linalg.norm(values_sq)\n",
    "    values_norm = values_sq / norm\n",
    "\n",
    "    #print(values_norm, values_norm[0]**2 + values_norm[1]**2 + values_norm[2]**2 + values_norm[3]**2) \n",
    "    \n",
    "    #create a matrix where the first column has the data\n",
    "    mat = np.zeros((len(values_norm),len(values_norm)))\n",
    "    mat[:,0] = values_norm\n",
    "\n",
    "    #get the unitary matrix through singular value decomposition\n",
    "    u, s, v = scipy.linalg.svd(mat)\n",
    "    instruction = UnitaryGate(u)\n",
    "\n",
    "    # print(u)\n",
    "    \n",
    "    #append the instruction to the circuit (last 2 qubits)\n",
    "    circ_ident.append(instruction,[3,4])"
   ]
  },
  {
   "cell_type": "markdown",
   "id": "dc1195f8-6c5b-4e76-beae-f6e544908baf",
   "metadata": {},
   "source": [
    "#### Discriminator Training Circuit"
   ]
  },
  {
   "cell_type": "code",
   "execution_count": 93,
   "id": "e39a798e-8454-430b-8fa3-dccbe3c03235",
   "metadata": {},
   "outputs": [],
   "source": [
    "# ------------------------------------------------------------------------------------\n",
    "# We treat the first n qubits are the discriminators state. n is always defined as the\n",
    "# integer division floor of the qubit count.\n",
    "# This is due to the fact that a state will always be k qubits, therefore the\n",
    "# number of total qubits must be 2k+1. 2k as we need k for the disc, and k to represent\n",
    "# either the other learned quantum state, or k to represent a data point\n",
    "# then +1 to perform the SWAP test. Therefore, we know that we will always end up\n",
    "# with an odd number of qubits. We take the floor to solve for k. 1st k represents\n",
    "# disc, 2nd k represents the \"loaded\" state be it gen or real data\n",
    "# ------------------------------------------------------------------------------------\n",
    "# Use different function calls to represent training a GENERATOR or training a DISCRIMINATOR\n",
    "# ------------------------------------------------------------------------------------\n",
    "def disc_real_training_circuit(training_variables, data, key=None, key_value=None, diff=False, fwd_diff=False):\n",
    "    circ = QuantumCircuit(q, c)\n",
    "    circ.h(0)\n",
    "    if diff == True and fwd_diff == True:\n",
    "        training_variables[key][key_value] += par_shift\n",
    "    if diff == True and fwd_diff == False:\n",
    "        training_variables[key][key_value] -= par_shift\n",
    "    traditional_learning_layer(circ, q, training_variables, style=layer_style, qubit_start=1, qubit_end=q // 2 + 1)\n",
    "    data_loading_circuit(circ, q, data, qubit_start=q // 2 + 1, qubit_end=q)  \n",
    "    swap_test(circ, q)\n",
    "    if diff == True and fwd_diff == True:\n",
    "        training_variables[key][key_value] -= par_shift\n",
    "    if diff == True and fwd_diff == False:\n",
    "        training_variables[key][key_value] += par_shift\n",
    "    return circ"
   ]
  },
  {
   "cell_type": "markdown",
   "id": "f5be03d2-e3a4-4bc9-a51f-9e5d1b5db8f2",
   "metadata": {},
   "source": [
    "#### Procedure"
   ]
  },
  {
   "cell_type": "code",
   "execution_count": 110,
   "id": "786c6109-aef7-4c2f-b52e-2903ebdcc404",
   "metadata": {},
   "outputs": [
    {
     "name": "stdout",
     "output_type": "stream",
     "text": [
      "Starting Training\n",
      "--------------------\n",
      "train_var_0 training\n"
     ]
    },
    {
     "name": "stderr",
     "output_type": "stream",
     "text": [
      "/var/folders/mg/bkddtr0n1pdgnjysfjbpr5380000gn/T/ipykernel_65091/2394001501.py:93: DeprecationWarning: The function ``qiskit.execute_function.execute()`` is deprecated as of qiskit 0.46.0. It will be removed in the Qiskit 1.0 release. This function combines ``transpile`` and ``backend.run``, which is covered by ``Sampler`` :mod:`~qiskit.primitives`. Alternatively, you can also run :func:`.transpile` followed by ``backend.run()``.\n",
      "  job = execute(circ, backend, shots=count)\n"
     ]
    },
    {
     "name": "stdout",
     "output_type": "stream",
     "text": [
      "16.190732003667595\n",
      "0.5508021390374331\n",
      "Time for Epoch 1 is 17.753188848495483 sec\n",
      "--------------------\n"
     ]
    },
    {
     "name": "stderr",
     "output_type": "stream",
     "text": [
      "/var/folders/mg/bkddtr0n1pdgnjysfjbpr5380000gn/T/ipykernel_65091/2394001501.py:93: DeprecationWarning: The function ``qiskit.execute_function.execute()`` is deprecated as of qiskit 0.46.0. It will be removed in the Qiskit 1.0 release. This function combines ``transpile`` and ``backend.run``, which is covered by ``Sampler`` :mod:`~qiskit.primitives`. Alternatively, you can also run :func:`.transpile` followed by ``backend.run()``.\n",
      "  job = execute(circ, backend, shots=count)\n"
     ]
    },
    {
     "name": "stdout",
     "output_type": "stream",
     "text": [
      "16.768972432370006\n",
      "0.5347593582887701\n",
      "Time for Epoch 2 is 17.886042833328247 sec\n",
      "--------------------\n"
     ]
    },
    {
     "name": "stderr",
     "output_type": "stream",
     "text": [
      "/var/folders/mg/bkddtr0n1pdgnjysfjbpr5380000gn/T/ipykernel_65091/2394001501.py:93: DeprecationWarning: The function ``qiskit.execute_function.execute()`` is deprecated as of qiskit 0.46.0. It will be removed in the Qiskit 1.0 release. This function combines ``transpile`` and ``backend.run``, which is covered by ``Sampler`` :mod:`~qiskit.primitives`. Alternatively, you can also run :func:`.transpile` followed by ``backend.run()``.\n",
      "  job = execute(circ, backend, shots=count)\n"
     ]
    },
    {
     "name": "stdout",
     "output_type": "stream",
     "text": [
      "15.61249157496518\n",
      "0.5668449197860963\n",
      "Time for Epoch 3 is 17.842390060424805 sec\n",
      "--------------------\n"
     ]
    },
    {
     "name": "stderr",
     "output_type": "stream",
     "text": [
      "/var/folders/mg/bkddtr0n1pdgnjysfjbpr5380000gn/T/ipykernel_65091/2394001501.py:93: DeprecationWarning: The function ``qiskit.execute_function.execute()`` is deprecated as of qiskit 0.46.0. It will be removed in the Qiskit 1.0 release. This function combines ``transpile`` and ``backend.run``, which is covered by ``Sampler`` :mod:`~qiskit.primitives`. Alternatively, you can also run :func:`.transpile` followed by ``backend.run()``.\n",
      "  job = execute(circ, backend, shots=count)\n"
     ]
    },
    {
     "name": "stdout",
     "output_type": "stream",
     "text": [
      "14.45601071756035\n",
      "0.5989304812834224\n",
      "Time for Epoch 4 is 17.633152961730957 sec\n",
      "--------------------\n"
     ]
    },
    {
     "name": "stderr",
     "output_type": "stream",
     "text": [
      "/var/folders/mg/bkddtr0n1pdgnjysfjbpr5380000gn/T/ipykernel_65091/2394001501.py:93: DeprecationWarning: The function ``qiskit.execute_function.execute()`` is deprecated as of qiskit 0.46.0. It will be removed in the Qiskit 1.0 release. This function combines ``transpile`` and ``backend.run``, which is covered by ``Sampler`` :mod:`~qiskit.primitives`. Alternatively, you can also run :func:`.transpile` followed by ``backend.run()``.\n",
      "  job = execute(circ, backend, shots=count)\n"
     ]
    },
    {
     "name": "stdout",
     "output_type": "stream",
     "text": [
      "13.877770288857937\n",
      "0.6149732620320856\n",
      "Time for Epoch 5 is 17.759525060653687 sec\n",
      "--------------------\n"
     ]
    },
    {
     "name": "stderr",
     "output_type": "stream",
     "text": [
      "/var/folders/mg/bkddtr0n1pdgnjysfjbpr5380000gn/T/ipykernel_65091/2394001501.py:93: DeprecationWarning: The function ``qiskit.execute_function.execute()`` is deprecated as of qiskit 0.46.0. It will be removed in the Qiskit 1.0 release. This function combines ``transpile`` and ``backend.run``, which is covered by ``Sampler`` :mod:`~qiskit.primitives`. Alternatively, you can also run :func:`.transpile` followed by ``backend.run()``.\n",
      "  job = execute(circ, backend, shots=count)\n"
     ]
    },
    {
     "name": "stdout",
     "output_type": "stream",
     "text": [
      "10.022834097508513\n",
      "0.7219251336898396\n",
      "Time for Epoch 1 is 17.859244108200073 sec\n",
      "--------------------\n"
     ]
    },
    {
     "name": "stderr",
     "output_type": "stream",
     "text": [
      "/var/folders/mg/bkddtr0n1pdgnjysfjbpr5380000gn/T/ipykernel_65091/2394001501.py:93: DeprecationWarning: The function ``qiskit.execute_function.execute()`` is deprecated as of qiskit 0.46.0. It will be removed in the Qiskit 1.0 release. This function combines ``transpile`` and ``backend.run``, which is covered by ``Sampler`` :mod:`~qiskit.primitives`. Alternatively, you can also run :func:`.transpile` followed by ``backend.run()``.\n",
      "  job = execute(circ, backend, shots=count)\n"
     ]
    },
    {
     "name": "stdout",
     "output_type": "stream",
     "text": [
      "9.251846859238627\n",
      "0.7433155080213903\n",
      "Time for Epoch 2 is 18.070878982543945 sec\n",
      "--------------------\n"
     ]
    },
    {
     "name": "stderr",
     "output_type": "stream",
     "text": [
      "/var/folders/mg/bkddtr0n1pdgnjysfjbpr5380000gn/T/ipykernel_65091/2394001501.py:93: DeprecationWarning: The function ``qiskit.execute_function.execute()`` is deprecated as of qiskit 0.46.0. It will be removed in the Qiskit 1.0 release. This function combines ``transpile`` and ``backend.run``, which is covered by ``Sampler`` :mod:`~qiskit.primitives`. Alternatively, you can also run :func:`.transpile` followed by ``backend.run()``.\n",
      "  job = execute(circ, backend, shots=count)\n"
     ]
    },
    {
     "name": "stdout",
     "output_type": "stream",
     "text": [
      "8.480859620968742\n",
      "0.7647058823529411\n",
      "Time for Epoch 3 is 17.76052498817444 sec\n",
      "--------------------\n"
     ]
    },
    {
     "name": "stderr",
     "output_type": "stream",
     "text": [
      "/var/folders/mg/bkddtr0n1pdgnjysfjbpr5380000gn/T/ipykernel_65091/2394001501.py:93: DeprecationWarning: The function ``qiskit.execute_function.execute()`` is deprecated as of qiskit 0.46.0. It will be removed in the Qiskit 1.0 release. This function combines ``transpile`` and ``backend.run``, which is covered by ``Sampler`` :mod:`~qiskit.primitives`. Alternatively, you can also run :func:`.transpile` followed by ``backend.run()``.\n",
      "  job = execute(circ, backend, shots=count)\n"
     ]
    },
    {
     "name": "stdout",
     "output_type": "stream",
     "text": [
      "7.902619192266328\n",
      "0.7807486631016043\n",
      "Time for Epoch 4 is 17.632528066635132 sec\n",
      "--------------------\n"
     ]
    },
    {
     "name": "stderr",
     "output_type": "stream",
     "text": [
      "/var/folders/mg/bkddtr0n1pdgnjysfjbpr5380000gn/T/ipykernel_65091/2394001501.py:93: DeprecationWarning: The function ``qiskit.execute_function.execute()`` is deprecated as of qiskit 0.46.0. It will be removed in the Qiskit 1.0 release. This function combines ``transpile`` and ``backend.run``, which is covered by ``Sampler`` :mod:`~qiskit.primitives`. Alternatively, you can also run :func:`.transpile` followed by ``backend.run()``.\n",
      "  job = execute(circ, backend, shots=count)\n"
     ]
    },
    {
     "name": "stdout",
     "output_type": "stream",
     "text": [
      "6.167897906159086\n",
      "0.8288770053475936\n",
      "Time for Epoch 5 is 17.876425981521606 sec\n",
      "--------------------\n"
     ]
    },
    {
     "name": "stderr",
     "output_type": "stream",
     "text": [
      "/var/folders/mg/bkddtr0n1pdgnjysfjbpr5380000gn/T/ipykernel_65091/2394001501.py:93: DeprecationWarning: The function ``qiskit.execute_function.execute()`` is deprecated as of qiskit 0.46.0. It will be removed in the Qiskit 1.0 release. This function combines ``transpile`` and ``backend.run``, which is covered by ``Sampler`` :mod:`~qiskit.primitives`. Alternatively, you can also run :func:`.transpile` followed by ``backend.run()``.\n",
      "  job = execute(circ, backend, shots=count)\n"
     ]
    },
    {
     "data": {
      "image/png": "[encoded data removed]",
      "text/plain": [
       "<Figure size 640x480 with 1 Axes>"
      ]
     },
     "metadata": {},
     "output_type": "display_data"
    },
    {
     "data": {
      "image/png": "[encoded data removed]",
      "text/plain": [
       "<Figure size 640x480 with 1 Axes>"
      ]
     },
     "metadata": {},
     "output_type": "display_data"
    },
    {
     "name": "stdout",
     "output_type": "stream",
     "text": [
      "Ones predicted 64 Zeros predicted 123\n",
      "Accuracy 0.8074866310160428\n",
      "Average entropy 0.9770875062113178\n"
     ]
    }
   ],
   "source": [
    "# ------------------------------------------------------------------------------------------\n",
    "# THIS SECTION WE DO THE TUNING FOR WHAT WE KNOW WE WANT TO BE CHANGING!\n",
    "# ------------------------------------------------------------------------------------------\n",
    "\n",
    "q = 5  # Number of qubits = Dimensionality of data = round up to even number = num qubits\n",
    "c = 1\n",
    "circ = QuantumCircuit(q, c)\n",
    "circ.h(0)\n",
    "layer_style = \"Dual\"\n",
    "train_var_0 = init_random_variables(q // 2, layer_style)\n",
    "train_var_1 = init_random_variables(q // 2, layer_style)\n",
    "train_var_2 = init_random_variables(q // 2, layer_style)\n",
    "\n",
    "tracked_d_loss = []\n",
    "tracked_d_loss1 = []\n",
    "tracked_d_loss2 = []\n",
    "gradients = []\n",
    "learning_rate = 0.01\n",
    "train_iter = 5\n",
    "corr = 0\n",
    "wrong = 0\n",
    "loss_d_to_real = 0\n",
    "\n",
    "losses = []\n",
    "accuracies = []\n",
    "\n",
    "print('Starting Training')\n",
    "print('-' * 20)\n",
    "print(\"train_var_0 training\")\n",
    "for epoch in range(train_iter):\n",
    "    start = time.time()\n",
    "    loss = [0, 0]\n",
    "    par_shift = 0.5 * np.pi / ((1 + epoch) ** 0.5)\n",
    "    for index, point in enumerate(pca_data_rot3):\n",
    "        for key, value in train_var_0.items():\n",
    "            if str(q // 2 + 1) in key:\n",
    "                break\n",
    "            for key_value in range(len(value)):\n",
    "                forward_diff = -np.log(get_probabilities(\n",
    "                    disc_real_training_circuit(train_var_0, point, key, key_value, diff=True, fwd_diff=True)))\n",
    "                backward_diff = -np.log(get_probabilities(\n",
    "                    disc_real_training_circuit(train_var_0, point, key, key_value, diff=True, fwd_diff=False)))\n",
    "                df = 0.5 * (forward_diff - backward_diff)\n",
    "                train_var_0[key][key_value] -= df * learning_rate\n",
    "\n",
    "    # Calculate accuracy after training\n",
    "    pca_data = []\n",
    "    [pca_data.append(x) for x in pca_data_rot3]\n",
    "    [pca_data.append(x) for x in pca_data_rot6]\n",
    "    labels = []\n",
    "    [labels.append(0) for _ in range(len(pca_data_rot3))]\n",
    "    [labels.append(1) for _ in range(len(pca_data_rot6))]\n",
    "    \n",
    "    loss = 0\n",
    "    correct = 0; \n",
    "    wrong = 0;\n",
    "    preds = []\n",
    "    reals = []\n",
    "    for index, x in enumerate(pca_data):\n",
    "        p0 = get_probabilities(disc_real_training_circuit(train_var_0, x, None, None, diff=False, fwd_diff=False))\n",
    "        p1 = get_probabilities(disc_real_training_circuit(train_var_1, x, None, None, diff=False, fwd_diff=False))\n",
    "        tp = p0 + p1\n",
    "        p0 = p0 / tp\n",
    "        p1 = p1 / tp\n",
    "        probs = np.array([p0, p1])\n",
    "\n",
    "        \n",
    "        if np.argmax(probs) == 1:\n",
    "            preds.append(1)\n",
    "        else:\n",
    "            preds.append(0)\n",
    "\n",
    "        reals.append(labels[index])\n",
    "        if np.argmax(probs) == labels[index]:\n",
    "            correct += 1\n",
    "        else:\n",
    "            wrong += 1\n",
    "    \n",
    "    loss = log_loss(reals, preds)\n",
    "    losses.append(loss)\n",
    "    print(loss)\n",
    "    \n",
    "    accuracy = correct / (correct + wrong)\n",
    "    accuracies.append(accuracy)\n",
    "    print(accuracy)\n",
    "    \n",
    "    print('Time for Epoch {} is {} sec'.format(epoch + 1, time.time() - start))\n",
    "    print(\"-\" * 20)\n",
    "    save_variables(train_var_0, epoch, 3)\n",
    "\n",
    "for epoch in range(train_iter):\n",
    "    start = time.time()\n",
    "    loss = [0, 0]\n",
    "    par_shift = 0.5 * np.pi / ((1 + epoch) ** 0.5)\n",
    "    for index, point in enumerate(pca_data_rot6):\n",
    "        for key, value in train_var_1.items():\n",
    "            if str(q // 2 + 1) in key:\n",
    "                break\n",
    "            for key_value in range(len(value)):\n",
    "                forward_diff = -np.log(get_probabilities(\n",
    "                    disc_real_training_circuit(train_var_1, point, key, key_value, diff=True, fwd_diff=True)))\n",
    "                backward_diff = -np.log(get_probabilities(\n",
    "                    disc_real_training_circuit(train_var_1, point, key, key_value, diff=True, fwd_diff=False)))\n",
    "                df = 0.5 * (forward_diff - backward_diff)\n",
    "                train_var_1[key][key_value] -= df * learning_rate\n",
    "\n",
    "     # Calculate accuracy after training\n",
    "    pca_data = []\n",
    "    [pca_data.append(x) for x in pca_data_rot3]\n",
    "    [pca_data.append(x) for x in pca_data_rot6]\n",
    "    labels = []\n",
    "    [labels.append(0) for _ in range(len(pca_data_rot3))]\n",
    "    [labels.append(1) for _ in range(len(pca_data_rot6))]\n",
    "    \n",
    "    loss = 0\n",
    "    correct = 0; \n",
    "    wrong = 0;\n",
    "    preds = []\n",
    "    reals = []\n",
    "    for index, x in enumerate(pca_data):\n",
    "        p0 = get_probabilities(disc_real_training_circuit(train_var_0, x, None, None, diff=False, fwd_diff=False))\n",
    "        p1 = get_probabilities(disc_real_training_circuit(train_var_1, x, None, None, diff=False, fwd_diff=False))\n",
    "        tp = p0 + p1\n",
    "        p0 = p0 / tp\n",
    "        p1 = p1 / tp\n",
    "        probs = np.array([p0, p1])\n",
    "\n",
    "        \n",
    "        if np.argmax(probs) == 1:\n",
    "            preds.append(1)\n",
    "        else:\n",
    "            preds.append(0)\n",
    "\n",
    "        reals.append(labels[index])\n",
    "        if np.argmax(probs) == labels[index]:\n",
    "            correct += 1\n",
    "        else:\n",
    "            wrong += 1\n",
    "    \n",
    "    loss = log_loss(reals, preds)\n",
    "    losses.append(loss)\n",
    "    print(loss)\n",
    "    \n",
    "    accuracy = correct / (correct + wrong)\n",
    "    accuracies.append(accuracy)\n",
    "    print(accuracy)\n",
    "    \n",
    "    print('Time for Epoch {} is {} sec'.format(epoch + 1, time.time() - start))\n",
    "    print(\"-\" * 20)\n",
    "    save_variables(train_var_1, epoch, 6)\n",
    "\n",
    "#CHANGE PCA_DATA_ROT VARS HERE\n",
    "pca_data = []\n",
    "[pca_data.append(x) for x in pca_data_rot3]\n",
    "[pca_data.append(x) for x in pca_data_rot6]\n",
    "labels = []\n",
    "[labels.append(0) for _ in range(len(pca_data_rot3))]\n",
    "[labels.append(1) for _ in range(len(pca_data_rot6))]\n",
    "\n",
    "correct = 0\n",
    "wrong = 0\n",
    "ones = []\n",
    "zeros = []\n",
    "layer_style = 'Dual'\n",
    "\n",
    "ones_predicted = 0\n",
    "zeros_predicted = 0\n",
    "\n",
    "p0_vals = []\n",
    "p1_vals = []\n",
    "\n",
    "for index, x in enumerate(pca_data):\n",
    "    p0 = get_probabilities(disc_real_training_circuit(train_var_0, x, None, None, diff=False, fwd_diff=False))\n",
    "    p1 = get_probabilities(disc_real_training_circuit(train_var_1, x, None, None, diff=False, fwd_diff=False))\n",
    "    tp = p0 + p1\n",
    "    p0 = p0 / tp\n",
    "    p1 = p1 / tp\n",
    "    probs = np.array([p0, p1])\n",
    "\n",
    "    if np.argmax(probs) == labels[index]:\n",
    "        correct += 1\n",
    "    else:\n",
    "        wrong += 1\n",
    "\n",
    "    if np.argmax(probs) == 1:\n",
    "        ones_predicted += 1\n",
    "    else:\n",
    "        zeros_predicted += 1\n",
    "\n",
    "    p0_vals.append(p0)\n",
    "    p1_vals.append(p1)\n",
    "\n",
    "entropies = entropy([np.array(p0_vals), np.array(p1_vals)], base = 2, axis = 0)\n",
    "avg_ent = np.mean(entropies)\n",
    "\n",
    "plt.plot(losses, label='Losses', color='blue')\n",
    "plt.show()\n",
    "\n",
    "plt.plot(accuracies, label='Accuracies', color='blue')\n",
    "plt.show()\n",
    "\n",
    "print(\"Ones predicted\", ones_predicted, \"Zeros predicted\", zeros_predicted)\n",
    "print(f\"Accuracy {correct / (correct + wrong)}\")\n",
    "print(\"Average entropy\", avg_ent)"
   ]
  },
  {
   "cell_type": "code",
   "execution_count": null,
   "id": "15d9f030-d928-4b7c-a29d-ebf712cbae25",
   "metadata": {},
   "outputs": [],
   "source": [
    "disc_real_training_circuit(train_var_1, point, key, key_value, diff=True, fwd_diff=False).draw()"
   ]
  }
 ],
 "metadata": {
  "kernelspec": {
   "display_name": "Python 3 (ipykernel)",
   "language": "python",
   "name": "python3"
  },
  "language_info": {
   "codemirror_mode": {
    "name": "ipython",
    "version": 3
   },
   "file_extension": ".py",
   "mimetype": "text/x-python",
   "name": "python",
   "nbconvert_exporter": "python",
   "pygments_lexer": "ipython3",
   "version": "3.11.9"
  }
 },
 "nbformat": 4,
 "nbformat_minor": 5
}
