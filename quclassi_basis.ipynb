{
 "cells": [
  {
   "cell_type": "markdown",
   "id": "dd3275f0-77fb-4b5d-83fc-0ab62e99b762",
   "metadata": {},
   "source": [
    "#### Imports "
   ]
  },
  {
   "cell_type": "code",
   "execution_count": 9,
   "id": "0d8db246-15b6-4254-af4b-b796c13d2c73",
   "metadata": {},
   "outputs": [],
   "source": [
    "import numpy as np\n",
    "import matplotlib.pyplot as plt\n",
    "import seaborn as sns\n",
    "from sklearn import datasets\n",
    "from qiskit import QuantumRegister, ClassicalRegister\n",
    "from qiskit import QuantumCircuit\n",
    "from qiskit import Aer, execute\n",
    "from math import pi,log\n",
    "from qiskit import *\n",
    "import time\n",
    "import numpy as np\n",
    "import tensorflow as tf\n",
    "import seaborn as sns\n",
    "import matplotlib.pyplot as plt\n",
    "from sklearn.decomposition import PCA\n",
    "import tensorflow as tf\n",
    "import numpy as np\n",
    "from qiskit import Aer, IBMQ\n",
    "import os\n",
    "from datetime import datetime\n",
    "from qiskit.extensions import UnitaryGate\n",
    "import scipy"
   ]
  },
  {
   "cell_type": "markdown",
   "id": "0347631a-5ad7-4d1f-b8aa-cf54c64f51aa",
   "metadata": {},
   "source": [
    "#### Running and Saving Details"
   ]
  },
  {
   "cell_type": "code",
   "execution_count": 10,
   "id": "0fe356ce-9551-4092-8cfc-e65c5d462377",
   "metadata": {},
   "outputs": [],
   "source": [
    "# Network saving and loading\n",
    "epoch = 25\n",
    "runtime_name = datetime.now().strftime(\"Date-%d%m%y--Hours-%H%M\")\n",
    "runtime_name += \"-epoch-{}\".format(epoch)\n",
    "os.mkdir(runtime_name)\n",
    "backend = Aer.get_backend('qasm_simulator')"
   ]
  },
  {
   "cell_type": "markdown",
   "id": "a7272c0a-cb8a-4145-8c1c-a5dc86eb99a7",
   "metadata": {},
   "source": [
    "#### Get Data"
   ]
  },
  {
   "cell_type": "code",
   "execution_count": 11,
   "id": "df9fde07-43d9-41bc-bdf7-d8c4b3ffe6aa",
   "metadata": {},
   "outputs": [],
   "source": [
    "# Subsample to SUBSAMPLE datapoints. This is due to computational cost.\n",
    "# Chance SUBSAMPLE to what best suits your computer, to make a reasonable training time.\n",
    "test_images,test_labels = tf.keras.datasets.mnist.load_data()\n",
    "train_images = test_images[0].reshape(60000,784)\n",
    "train_labels = test_images[1]\n",
    "labels = test_images[1]\n",
    "train_images = train_images/255\n",
    "k=1\n",
    "pca = PCA(n_components=k)\n",
    "pca.fit(train_images)\n",
    "\n",
    "# Computational cost is high for 60,000 data points. Change 6000 to what your system can handle\n",
    "SUBSAMPLE = 1000\n",
    "pca_data = pca.transform(train_images)[:SUBSAMPLE]\n",
    "train_labels = train_labels[:SUBSAMPLE]\n",
    "t_pca_data = pca_data.copy()\n",
    "pca_descaler = [[] for _ in range(k)]"
   ]
  },
  {
   "cell_type": "code",
   "execution_count": 12,
   "id": "1d9145d4-cb8b-4ab0-905d-f9cedf61714d",
   "metadata": {},
   "outputs": [
    {
     "data": {
      "text/plain": [
       "array([5.11687301])"
      ]
     },
     "execution_count": 12,
     "metadata": {},
     "output_type": "execute_result"
    }
   ],
   "source": [
    "pca.explained_variance_"
   ]
  },
  {
   "cell_type": "markdown",
   "id": "8ce180a4-aba3-4a32-94aa-b9263de290d4",
   "metadata": {},
   "source": [
    "### <font color='green'>Data Transformation</font>  "
   ]
  },
  {
   "cell_type": "markdown",
   "id": "a72407bc-bbf5-47f2-aaa5-116c8031ee7b",
   "metadata": {},
   "source": [
    "<font color='green'>Changes made: scale data to be between 0 and 15</font> "
   ]
  },
  {
   "cell_type": "code",
   "execution_count": 13,
   "id": "0308c017-b195-464c-b00f-f53b830e1b85",
   "metadata": {},
   "outputs": [],
   "source": [
    "# Data Transformation Section\n",
    "for i in range(k):\n",
    "    if pca_data[:,i].min() < 0:\n",
    "        pca_descaler[i].append(pca_data[:,i].min())\n",
    "        pca_data[:,i] += np.abs(pca_data[:,i].min())\n",
    "    else:\n",
    "        pca_descaler[i].append(pca_data[:,i].min())\n",
    "        pca_data[:,i] -= pca_data[:,i].min()\n",
    "    pca_descaler[i].append(pca_data[:,i].max())\n",
    "    pca_data[:,i] /= pca_data[:,i].max()\n",
    "\n",
    "#CHANGE\n",
    "#going to use 4 bits per component, so scale each column between 0 and 15 (4 bits)\n",
    "pca_data_rot= np.round(pca_data * 3).astype(int)\n",
    "\n",
    "valid_labels = None\n",
    "valid_labels = train_labels==3\n",
    "valid_labels += train_labels == 6\n",
    "\n",
    "for col in range(pca_data.shape[1]):\n",
    "    t_data_mean = pca_data[:,col].mean()\n",
    "    t_data_std = pca_data[:,col].std()\n",
    "    valid_upper_bound = pca_data[:,col] < t_data_mean+t_data_std\n",
    "    valid_lower_bound = pca_data[:,col] > t_data_mean-t_data_std\n",
    "    valid = np.logical_and(valid_upper_bound,valid_lower_bound)\n",
    "    pca_data = pca_data[valid]\n",
    "\n",
    "pca_data_rot3 = pca_data_rot[train_labels==3]\n",
    "pca_data_rot6 = pca_data_rot[train_labels==6]"
   ]
  },
  {
   "cell_type": "markdown",
   "id": "fece1d78-92d2-43f6-8e0d-6562bfe3703e",
   "metadata": {},
   "source": [
    "#### Utils"
   ]
  },
  {
   "cell_type": "code",
   "execution_count": 14,
   "id": "e1b70284-5cea-46d7-af48-3d007413f211",
   "metadata": {},
   "outputs": [],
   "source": [
    "# Checkpointing code\n",
    "def save_variables(var_dict, epoch, number_class):\n",
    "    with open(f\"{runtime_name}/Epoch-{epoch}-Variables-numbers-{number_class}\", 'w') as file:\n",
    "        file.write(str(var_dict))\n",
    "\n",
    "# Ran_ang returns a random angle\n",
    "def ran_ang():\n",
    "    return np.random.rand() * 2 * np.pi\n",
    "\n",
    "\n",
    "def single_qubit_unitary(circ_ident, qubit_index, values):\n",
    "    circ_ident.ry(values[0], qubit_index)\n",
    "    circ_ident.rz(values[1], qubit_index)\n",
    "\n",
    "\n",
    "def dual_qubit_unitary(circ_ident, qubit_1, qubit_2, values):\n",
    "    circ_ident.ryy(values[0], qubit_1, qubit_2)\n",
    "    circ_ident.rzz(values[1], qubit_1, qubit_2)\n",
    "\n",
    "\n",
    "def controlled_dual_qubit_unitary(circ_ident, control_qubit, act_qubit, values):\n",
    "    circ_ident.cry(values[0], control_qubit, act_qubit)\n",
    "    circ_ident.crz(values[1], control_qubit, act_qubit)\n",
    "\n",
    "\n",
    "def traditional_learning_layer(circ_ident, num_qubits, values, style=\"Dual\", qubit_start=1, qubit_end=5):\n",
    "    if style == \"Dual\":\n",
    "        for qub in np.arange(qubit_start, qubit_end):\n",
    "            single_qubit_unitary(circ_ident, qub, values[str(qub)])\n",
    "        for qub in np.arange(qubit_start, qubit_end - 1):\n",
    "            dual_qubit_unitary(circ_ident, qub, qub + 1, values[str(qub) + \",\" + str(qub + 1)])\n",
    "    elif style == \"Single\":\n",
    "        for qub in np.arange(qubit_start, qubit_end):\n",
    "            single_qubit_unitary(circ_ident, qub, values[str(qub)])\n",
    "    elif style == \"Controlled-Dual\":\n",
    "        for qub in np.arange(qubit_start, qubit_end):\n",
    "            single_qubit_unitary(circ_ident, qub, values[str(qub)])\n",
    "        for qub in np.arange(qubit_start, qubit_end - 1):\n",
    "            dual_qubit_unitary(circ_ident, qub, qub + 1, values[str(qub) + \",\" + str(qub + 1)])\n",
    "        for qub in np.arange(qubit_start, qubit_end - 1):\n",
    "            controlled_dual_qubit_unitary(circ_ident, qub, qub + 1, values[str(qub) + \"--\" + str(qub + 1)])\n",
    "\n",
    "\n",
    "def swap_test(circ_ident, num_qubits):\n",
    "    num_swap = num_qubits // 2\n",
    "    for i in range(num_swap):\n",
    "        circ_ident.cswap(0, i + 1, i + num_swap + 1)\n",
    "    circ_ident.h(0)\n",
    "    circ_ident.measure(0, 0)\n",
    "\n",
    "\n",
    "def init_random_variables(q, style):\n",
    "    trainable_variables = {}\n",
    "    if style == \"Single\":\n",
    "        for i in np.arange(1, q + 1):\n",
    "            trainable_variables[str(i)] = [ran_ang(), ran_ang()]\n",
    "    elif style == \"Dual\":\n",
    "        for i in np.arange(1, q + 1):\n",
    "            trainable_variables[str(i)] = [ran_ang(), ran_ang()]\n",
    "            if i != q:\n",
    "                trainable_variables[str(i) + \",\" + str(i + 1)] = [ran_ang(), ran_ang()]\n",
    "    elif style == \"Controlled-Dual\":\n",
    "        for i in np.arange(1, q + 1):\n",
    "            trainable_variables[str(i)] = [ran_ang(), ran_ang()]\n",
    "            if i != q:\n",
    "                trainable_variables[str(i) + \",\" + str(i + 1)] = [ran_ang(), ran_ang()]\n",
    "                trainable_variables[str(i) + \"--\" + str(i + 1)] = [ran_ang(), ran_ang()]\n",
    "    return trainable_variables\n",
    "\n",
    "\n",
    "def init_gradient_variables(q, style):\n",
    "    trainable_variables = {}\n",
    "    if style == \"Single\":\n",
    "        for i in np.arange(1, q + 1):\n",
    "            trainable_variables[str(i)] = [[], []]\n",
    "    elif style == \"Dual\":\n",
    "        for i in np.arange(1, q + 1):\n",
    "            trainable_variables[str(i)] = [[], []]\n",
    "            if i != q:\n",
    "                trainable_variables[str(i) + \",\" + str(i + 1)] = [[], []]\n",
    "    elif style == \"Controlled-Dual\":\n",
    "        for i in np.arange(1, q + 1):\n",
    "            trainable_variables[str(i)] = [0, 0]\n",
    "            if i != q:\n",
    "                trainable_variables[str(i) + \",\" + str(i + 1)] = [[], []]\n",
    "                trainable_variables[str(i) + \"--\" + str(i + 1)] = [[], []]\n",
    "    return trainable_variables\n",
    "\n",
    "\n",
    "def get_probabilities(circ, count=10000, inducing=False):\n",
    "    if inducing == True:\n",
    "        count *= 10\n",
    "    job = execute(circ, backend, shots=count)\n",
    "    results = job.result().get_counts(circ)\n",
    "    try:\n",
    "        prob = results['0'] / (results['1'] + results['0'])\n",
    "        prob = (prob - 0.5)\n",
    "        if prob <= 0:\n",
    "            prob = 1e-16\n",
    "        else:\n",
    "            prob = prob * 2\n",
    "    except:\n",
    "        prob = 1\n",
    "    return prob\n",
    "\n",
    "\n",
    "\n",
    "# Define loss function. SWAP Test returns probability, so minmax probability is logical\n",
    "def cost_function(p, yreal):\n",
    "    if yreal == 1:\n",
    "        return -np.log(p)\n",
    "    else:\n",
    "        return -np.log(1 - p)\n",
    "\n",
    "\n",
    "def update_weights(init_value, lr, grad):\n",
    "    while lr * grad > 2 * np.pi:\n",
    "        lr /= 10\n",
    "        print(\"Warning - Gradient taking steps that are very large. Drop learning rate\")\n",
    "    weight_update = lr * grad\n",
    "    new_value = init_value\n",
    "    if new_value - weight_update > 2 * np.pi:\n",
    "        new_value = (new_value - weight_update) - 2 * np.pi\n",
    "    elif new_value - weight_update < 0:\n",
    "        new_value = (new_value - weight_update) + 2 * np.pi\n",
    "    else:\n",
    "        new_value = new_value - weight_update\n",
    "    return new_value"
   ]
  },
  {
   "cell_type": "markdown",
   "id": "f55421af-fa1d-49c1-87bc-a828506b5e9d",
   "metadata": {},
   "source": [
    "### <font color='green'> Encode Data</font>"
   ]
  },
  {
   "cell_type": "markdown",
   "id": "5fd9a74d-4f46-4655-8e8e-42ef2bbcf14b",
   "metadata": {},
   "source": [
    "<font color='green'>Fully changed</font>"
   ]
  },
  {
   "cell_type": "code",
   "execution_count": 50,
   "id": "42086ed7-f926-405c-9937-d964101d7e00",
   "metadata": {},
   "outputs": [],
   "source": [
    "def data_loading_circuit(circ_ident, num_qubits, values, qubit_start=1, qubit_end=5):\n",
    "    # hardcoding to test\n",
    "    if (values[0] == 1):\n",
    "        circ_ident.x(0)\n",
    "    else:\n",
    "        if (values[0] == 2):\n",
    "            circ_ident.x(1)\n",
    "        else:\n",
    "            if (values[0] == 3):\n",
    "                circ_ident.x(0)\n",
    "                circ_ident.x(1)\n",
    "    \n",
    "    #will receive 1 number between 0 and 4\n",
    "    #for index,a in enumerate(bin(values[0]).split('b')[-1]):\n",
    "        #if a == '1':\n",
    "            #circ_ident.x(index)"
   ]
  },
  {
   "cell_type": "markdown",
   "id": "dc1195f8-6c5b-4e76-beae-f6e544908baf",
   "metadata": {},
   "source": [
    "#### Discriminator Training Circuit"
   ]
  },
  {
   "cell_type": "code",
   "execution_count": 59,
   "id": "e39a798e-8454-430b-8fa3-dccbe3c03235",
   "metadata": {},
   "outputs": [],
   "source": [
    "# ------------------------------------------------------------------------------------\n",
    "# We treat the first n qubits are the discriminators state. n is always defined as the\n",
    "# integer division floor of the qubit count.\n",
    "# This is due to the fact that a state will always be k qubits, therefore the\n",
    "# number of total qubits must be 2k+1. 2k as we need k for the disc, and k to represent\n",
    "# either the other learned quantum state, or k to represent a data point\n",
    "# then +1 to perform the SWAP test. Therefore, we know that we will always end up\n",
    "# with an odd number of qubits. We take the floor to solve for k. 1st k represents\n",
    "# disc, 2nd k represents the \"loaded\" state be it gen or real data\n",
    "# ------------------------------------------------------------------------------------\n",
    "# Use different function calls to represent training a GENERATOR or training a DISCRIMINATOR\n",
    "# ------------------------------------------------------------------------------------\n",
    "def disc_real_training_circuit(training_variables, data, key=None, key_value=None, diff=False, fwd_diff=False):\n",
    "    circ = QuantumCircuit(q, c)  \n",
    "    circ.h(0)\n",
    "    if diff == True and fwd_diff == True:\n",
    "        training_variables[key][key_value] += par_shift\n",
    "    if diff == True and fwd_diff == False:\n",
    "        training_variables[key][key_value] -= par_shift\n",
    "    data_loading_circuit(circ, q, data, qubit_start=q // 2 + 1, qubit_end=q)\n",
    "    traditional_learning_layer(circ, q, training_variables, style=layer_style, qubit_start=1, qubit_end=q // 2 + 1)\n",
    "    swap_test(circ, q)\n",
    "    if diff == True and fwd_diff == True:\n",
    "        training_variables[key][key_value] -= par_shift\n",
    "    if diff == True and fwd_diff == False:\n",
    "        training_variables[key][key_value] += par_shift\n",
    "    return circ"
   ]
  },
  {
   "cell_type": "markdown",
   "id": "f5be03d2-e3a4-4bc9-a51f-9e5d1b5db8f2",
   "metadata": {},
   "source": [
    "#### Procedure"
   ]
  },
  {
   "cell_type": "code",
   "execution_count": 57,
   "id": "786c6109-aef7-4c2f-b52e-2903ebdcc404",
   "metadata": {},
   "outputs": [
    {
     "name": "stdout",
     "output_type": "stream",
     "text": [
      "Starting Training\n",
      "--------------------\n",
      "train_var_0 training\n",
      "Time for Epoch 1 is 12.839585065841675 sec\n",
      "--------------------\n"
     ]
    },
    {
     "ename": "KeyboardInterrupt",
     "evalue": "",
     "output_type": "error",
     "traceback": [
      "\u001b[0;31m---------------------------------------------------------------------------\u001b[0m",
      "\u001b[0;31mKeyboardInterrupt\u001b[0m                         Traceback (most recent call last)",
      "Cell \u001b[0;32mIn[57], line 37\u001b[0m\n\u001b[1;32m     34\u001b[0m \u001b[38;5;28;01mfor\u001b[39;00m key_value \u001b[38;5;129;01min\u001b[39;00m \u001b[38;5;28mrange\u001b[39m(\u001b[38;5;28mlen\u001b[39m(value)):\n\u001b[1;32m     35\u001b[0m     forward_diff \u001b[38;5;241m=\u001b[39m \u001b[38;5;241m-\u001b[39mnp\u001b[38;5;241m.\u001b[39mlog(get_probabilities(\n\u001b[1;32m     36\u001b[0m         disc_real_training_circuit(train_var_0, point, key, key_value, diff\u001b[38;5;241m=\u001b[39m\u001b[38;5;28;01mTrue\u001b[39;00m, fwd_diff\u001b[38;5;241m=\u001b[39m\u001b[38;5;28;01mTrue\u001b[39;00m)))\n\u001b[0;32m---> 37\u001b[0m     backward_diff \u001b[38;5;241m=\u001b[39m \u001b[38;5;241m-\u001b[39mnp\u001b[38;5;241m.\u001b[39mlog(get_probabilities(\n\u001b[1;32m     38\u001b[0m         disc_real_training_circuit(train_var_0, point, key, key_value, diff\u001b[38;5;241m=\u001b[39m\u001b[38;5;28;01mTrue\u001b[39;00m, fwd_diff\u001b[38;5;241m=\u001b[39m\u001b[38;5;28;01mFalse\u001b[39;00m)))\n\u001b[1;32m     39\u001b[0m     df \u001b[38;5;241m=\u001b[39m \u001b[38;5;241m0.5\u001b[39m \u001b[38;5;241m*\u001b[39m (forward_diff \u001b[38;5;241m-\u001b[39m backward_diff)\n\u001b[1;32m     40\u001b[0m     train_var_0[key][key_value] \u001b[38;5;241m-\u001b[39m\u001b[38;5;241m=\u001b[39m df \u001b[38;5;241m*\u001b[39m learning_rate\n",
      "Cell \u001b[0;32mIn[14], line 93\u001b[0m, in \u001b[0;36mget_probabilities\u001b[0;34m(circ, count, inducing)\u001b[0m\n\u001b[1;32m     91\u001b[0m \u001b[38;5;28;01mif\u001b[39;00m inducing \u001b[38;5;241m==\u001b[39m \u001b[38;5;28;01mTrue\u001b[39;00m:\n\u001b[1;32m     92\u001b[0m     count \u001b[38;5;241m*\u001b[39m\u001b[38;5;241m=\u001b[39m \u001b[38;5;241m10\u001b[39m\n\u001b[0;32m---> 93\u001b[0m job \u001b[38;5;241m=\u001b[39m execute(circ, backend, shots\u001b[38;5;241m=\u001b[39mcount)\n\u001b[1;32m     94\u001b[0m results \u001b[38;5;241m=\u001b[39m job\u001b[38;5;241m.\u001b[39mresult()\u001b[38;5;241m.\u001b[39mget_counts(circ)\n\u001b[1;32m     95\u001b[0m \u001b[38;5;28;01mtry\u001b[39;00m:\n",
      "File \u001b[0;32m/opt/anaconda3/lib/python3.11/site-packages/qiskit/execute_function.py:286\u001b[0m, in \u001b[0;36mexecute\u001b[0;34m(experiments, backend, basis_gates, coupling_map, backend_properties, initial_layout, seed_transpiler, optimization_level, pass_manager, shots, memory, seed_simulator, default_qubit_los, default_meas_los, qubit_lo_range, meas_lo_range, schedule_los, meas_level, meas_return, memory_slots, memory_slot_size, rep_time, rep_delay, parameter_binds, schedule_circuit, inst_map, meas_map, scheduling_method, init_qubits, **run_config)\u001b[0m\n\u001b[1;32m    283\u001b[0m     experiments \u001b[38;5;241m=\u001b[39m pass_manager\u001b[38;5;241m.\u001b[39mrun(experiments)\n\u001b[1;32m    284\u001b[0m \u001b[38;5;28;01melse\u001b[39;00m:\n\u001b[1;32m    285\u001b[0m     \u001b[38;5;66;03m# transpiling the circuits using given transpile options\u001b[39;00m\n\u001b[0;32m--> 286\u001b[0m     experiments \u001b[38;5;241m=\u001b[39m transpile(\n\u001b[1;32m    287\u001b[0m         experiments,\n\u001b[1;32m    288\u001b[0m         basis_gates\u001b[38;5;241m=\u001b[39mbasis_gates,\n\u001b[1;32m    289\u001b[0m         coupling_map\u001b[38;5;241m=\u001b[39mcoupling_map,\n\u001b[1;32m    290\u001b[0m         backend_properties\u001b[38;5;241m=\u001b[39mbackend_properties,\n\u001b[1;32m    291\u001b[0m         initial_layout\u001b[38;5;241m=\u001b[39minitial_layout,\n\u001b[1;32m    292\u001b[0m         seed_transpiler\u001b[38;5;241m=\u001b[39mseed_transpiler,\n\u001b[1;32m    293\u001b[0m         optimization_level\u001b[38;5;241m=\u001b[39moptimization_level,\n\u001b[1;32m    294\u001b[0m         backend\u001b[38;5;241m=\u001b[39mbackend,\n\u001b[1;32m    295\u001b[0m     )\n\u001b[1;32m    297\u001b[0m \u001b[38;5;28;01mif\u001b[39;00m schedule_circuit:\n\u001b[1;32m    298\u001b[0m     experiments \u001b[38;5;241m=\u001b[39m schedule(\n\u001b[1;32m    299\u001b[0m         circuits\u001b[38;5;241m=\u001b[39mexperiments,\n\u001b[1;32m    300\u001b[0m         backend\u001b[38;5;241m=\u001b[39mbackend,\n\u001b[0;32m   (...)\u001b[0m\n\u001b[1;32m    303\u001b[0m         method\u001b[38;5;241m=\u001b[39mscheduling_method,\n\u001b[1;32m    304\u001b[0m     )\n",
      "File \u001b[0;32m/opt/anaconda3/lib/python3.11/site-packages/qiskit/compiler/transpiler.py:404\u001b[0m, in \u001b[0;36mtranspile\u001b[0;34m(circuits, backend, basis_gates, inst_map, coupling_map, backend_properties, initial_layout, layout_method, routing_method, translation_method, scheduling_method, instruction_durations, dt, approximation_degree, timing_constraints, seed_transpiler, optimization_level, callback, output_name, unitary_synthesis_method, unitary_synthesis_plugin_config, target, hls_config, init_method, optimization_method, ignore_backend_supplied_default_methods)\u001b[0m\n\u001b[1;32m    399\u001b[0m     \u001b[38;5;28;01melse\u001b[39;00m:\n\u001b[1;32m    400\u001b[0m         instruction_durations \u001b[38;5;241m=\u001b[39m _parse_instruction_durations(\n\u001b[1;32m    401\u001b[0m             backend, instruction_durations, dt, circuits[\u001b[38;5;241m0\u001b[39m]\n\u001b[1;32m    402\u001b[0m         )\n\u001b[0;32m--> 404\u001b[0m pm \u001b[38;5;241m=\u001b[39m generate_preset_pass_manager(\n\u001b[1;32m    405\u001b[0m     optimization_level,\n\u001b[1;32m    406\u001b[0m     backend\u001b[38;5;241m=\u001b[39mbackend,\n\u001b[1;32m    407\u001b[0m     target\u001b[38;5;241m=\u001b[39mtarget,\n\u001b[1;32m    408\u001b[0m     basis_gates\u001b[38;5;241m=\u001b[39mbasis_gates,\n\u001b[1;32m    409\u001b[0m     inst_map\u001b[38;5;241m=\u001b[39minst_map,\n\u001b[1;32m    410\u001b[0m     coupling_map\u001b[38;5;241m=\u001b[39mcoupling_map,\n\u001b[1;32m    411\u001b[0m     instruction_durations\u001b[38;5;241m=\u001b[39minstruction_durations,\n\u001b[1;32m    412\u001b[0m     backend_properties\u001b[38;5;241m=\u001b[39mbackend_properties,\n\u001b[1;32m    413\u001b[0m     timing_constraints\u001b[38;5;241m=\u001b[39mtiming_constraints,\n\u001b[1;32m    414\u001b[0m     initial_layout\u001b[38;5;241m=\u001b[39minitial_layout,\n\u001b[1;32m    415\u001b[0m     layout_method\u001b[38;5;241m=\u001b[39mlayout_method,\n\u001b[1;32m    416\u001b[0m     routing_method\u001b[38;5;241m=\u001b[39mrouting_method,\n\u001b[1;32m    417\u001b[0m     translation_method\u001b[38;5;241m=\u001b[39mtranslation_method,\n\u001b[1;32m    418\u001b[0m     scheduling_method\u001b[38;5;241m=\u001b[39mscheduling_method,\n\u001b[1;32m    419\u001b[0m     approximation_degree\u001b[38;5;241m=\u001b[39mapproximation_degree,\n\u001b[1;32m    420\u001b[0m     seed_transpiler\u001b[38;5;241m=\u001b[39mseed_transpiler,\n\u001b[1;32m    421\u001b[0m     unitary_synthesis_method\u001b[38;5;241m=\u001b[39munitary_synthesis_method,\n\u001b[1;32m    422\u001b[0m     unitary_synthesis_plugin_config\u001b[38;5;241m=\u001b[39munitary_synthesis_plugin_config,\n\u001b[1;32m    423\u001b[0m     hls_config\u001b[38;5;241m=\u001b[39mhls_config,\n\u001b[1;32m    424\u001b[0m     init_method\u001b[38;5;241m=\u001b[39minit_method,\n\u001b[1;32m    425\u001b[0m     optimization_method\u001b[38;5;241m=\u001b[39moptimization_method,\n\u001b[1;32m    426\u001b[0m     _skip_target\u001b[38;5;241m=\u001b[39m_skip_target,\n\u001b[1;32m    427\u001b[0m )\n\u001b[1;32m    428\u001b[0m out_circuits \u001b[38;5;241m=\u001b[39m pm\u001b[38;5;241m.\u001b[39mrun(circuits, callback\u001b[38;5;241m=\u001b[39mcallback)\n\u001b[1;32m    429\u001b[0m \u001b[38;5;28;01mfor\u001b[39;00m name, circ \u001b[38;5;129;01min\u001b[39;00m \u001b[38;5;28mzip\u001b[39m(output_name, out_circuits):\n",
      "File \u001b[0;32m/opt/anaconda3/lib/python3.11/site-packages/qiskit/transpiler/preset_passmanagers/__init__.py:260\u001b[0m, in \u001b[0;36mgenerate_preset_pass_manager\u001b[0;34m(optimization_level, backend, target, basis_gates, inst_map, coupling_map, instruction_durations, backend_properties, timing_constraints, initial_layout, layout_method, routing_method, translation_method, scheduling_method, approximation_degree, seed_transpiler, unitary_synthesis_method, unitary_synthesis_plugin_config, hls_config, init_method, optimization_method, _skip_target)\u001b[0m\n\u001b[1;32m    258\u001b[0m     pm \u001b[38;5;241m=\u001b[39m level_0_pass_manager(pm_config)\n\u001b[1;32m    259\u001b[0m \u001b[38;5;28;01melif\u001b[39;00m optimization_level \u001b[38;5;241m==\u001b[39m \u001b[38;5;241m1\u001b[39m:\n\u001b[0;32m--> 260\u001b[0m     pm \u001b[38;5;241m=\u001b[39m level_1_pass_manager(pm_config)\n\u001b[1;32m    261\u001b[0m \u001b[38;5;28;01melif\u001b[39;00m optimization_level \u001b[38;5;241m==\u001b[39m \u001b[38;5;241m2\u001b[39m:\n\u001b[1;32m    262\u001b[0m     pm \u001b[38;5;241m=\u001b[39m level_2_pass_manager(pm_config)\n",
      "File \u001b[0;32m/opt/anaconda3/lib/python3.11/site-packages/qiskit/transpiler/preset_passmanagers/level1.py:98\u001b[0m, in \u001b[0;36mlevel_1_pass_manager\u001b[0;34m(pass_manager_config)\u001b[0m\n\u001b[1;32m     90\u001b[0m optimization \u001b[38;5;241m=\u001b[39m plugin_manager\u001b[38;5;241m.\u001b[39mget_passmanager_stage(\n\u001b[1;32m     91\u001b[0m     \u001b[38;5;124m\"\u001b[39m\u001b[38;5;124moptimization\u001b[39m\u001b[38;5;124m\"\u001b[39m, optimization_method, pass_manager_config, optimization_level\u001b[38;5;241m=\u001b[39m\u001b[38;5;241m1\u001b[39m\n\u001b[1;32m     92\u001b[0m )\n\u001b[1;32m     94\u001b[0m sched \u001b[38;5;241m=\u001b[39m plugin_manager\u001b[38;5;241m.\u001b[39mget_passmanager_stage(\n\u001b[1;32m     95\u001b[0m     \u001b[38;5;124m\"\u001b[39m\u001b[38;5;124mscheduling\u001b[39m\u001b[38;5;124m\"\u001b[39m, scheduling_method, pass_manager_config, optimization_level\u001b[38;5;241m=\u001b[39m\u001b[38;5;241m1\u001b[39m\n\u001b[1;32m     96\u001b[0m )\n\u001b[0;32m---> 98\u001b[0m pre_init \u001b[38;5;241m=\u001b[39m common\u001b[38;5;241m.\u001b[39mgenerate_control_flow_options_check(\n\u001b[1;32m     99\u001b[0m     layout_method\u001b[38;5;241m=\u001b[39mlayout_method,\n\u001b[1;32m    100\u001b[0m     routing_method\u001b[38;5;241m=\u001b[39mrouting_method,\n\u001b[1;32m    101\u001b[0m     translation_method\u001b[38;5;241m=\u001b[39mtranslation_method,\n\u001b[1;32m    102\u001b[0m     optimization_method\u001b[38;5;241m=\u001b[39moptimization_method,\n\u001b[1;32m    103\u001b[0m     scheduling_method\u001b[38;5;241m=\u001b[39mscheduling_method,\n\u001b[1;32m    104\u001b[0m     basis_gates\u001b[38;5;241m=\u001b[39mbasis_gates,\n\u001b[1;32m    105\u001b[0m     target\u001b[38;5;241m=\u001b[39mtarget,\n\u001b[1;32m    106\u001b[0m )\n\u001b[1;32m    107\u001b[0m init \u001b[38;5;241m=\u001b[39m plugin_manager\u001b[38;5;241m.\u001b[39mget_passmanager_stage(\n\u001b[1;32m    108\u001b[0m     \u001b[38;5;124m\"\u001b[39m\u001b[38;5;124minit\u001b[39m\u001b[38;5;124m\"\u001b[39m, init_method, pass_manager_config, optimization_level\u001b[38;5;241m=\u001b[39m\u001b[38;5;241m1\u001b[39m\n\u001b[1;32m    109\u001b[0m )\n\u001b[1;32m    111\u001b[0m \u001b[38;5;28;01mreturn\u001b[39;00m StagedPassManager(\n\u001b[1;32m    112\u001b[0m     pre_init\u001b[38;5;241m=\u001b[39mpre_init,\n\u001b[1;32m    113\u001b[0m     init\u001b[38;5;241m=\u001b[39minit,\n\u001b[0;32m   (...)\u001b[0m\n\u001b[1;32m    119\u001b[0m     scheduling\u001b[38;5;241m=\u001b[39msched,\n\u001b[1;32m    120\u001b[0m )\n",
      "File \u001b[0;32m/opt/anaconda3/lib/python3.11/site-packages/qiskit/transpiler/preset_passmanagers/common.py:153\u001b[0m, in \u001b[0;36mgenerate_control_flow_options_check\u001b[0;34m(layout_method, routing_method, translation_method, optimization_method, scheduling_method, basis_gates, target)\u001b[0m\n\u001b[1;32m    151\u001b[0m     out\u001b[38;5;241m.\u001b[39mappend(Error(message), condition\u001b[38;5;241m=\u001b[39m_has_control_flow)\n\u001b[1;32m    152\u001b[0m backend_control \u001b[38;5;241m=\u001b[39m _InvalidControlFlowForBackend(basis_gates, target)\n\u001b[0;32m--> 153\u001b[0m out\u001b[38;5;241m.\u001b[39mappend(Error(backend_control\u001b[38;5;241m.\u001b[39mmessage), condition\u001b[38;5;241m=\u001b[39mbackend_control\u001b[38;5;241m.\u001b[39mcondition)\n\u001b[1;32m    154\u001b[0m \u001b[38;5;28;01mreturn\u001b[39;00m out\n",
      "File \u001b[0;32m/opt/anaconda3/lib/python3.11/site-packages/qiskit/transpiler/passmanager.py:553\u001b[0m, in \u001b[0;36m_replace_error.<locals>.wrapper\u001b[0;34m(*meth_args, **meth_kwargs)\u001b[0m\n\u001b[1;32m    550\u001b[0m \u001b[38;5;129m@wraps\u001b[39m(meth)\n\u001b[1;32m    551\u001b[0m \u001b[38;5;28;01mdef\u001b[39;00m \u001b[38;5;21mwrapper\u001b[39m(\u001b[38;5;241m*\u001b[39mmeth_args, \u001b[38;5;241m*\u001b[39m\u001b[38;5;241m*\u001b[39mmeth_kwargs):\n\u001b[1;32m    552\u001b[0m     \u001b[38;5;28;01mtry\u001b[39;00m:\n\u001b[0;32m--> 553\u001b[0m         \u001b[38;5;28;01mreturn\u001b[39;00m meth(\u001b[38;5;241m*\u001b[39mmeth_args, \u001b[38;5;241m*\u001b[39m\u001b[38;5;241m*\u001b[39mmeth_kwargs)\n\u001b[1;32m    554\u001b[0m     \u001b[38;5;28;01mexcept\u001b[39;00m PassManagerError \u001b[38;5;28;01mas\u001b[39;00m ex:\n\u001b[1;32m    555\u001b[0m         \u001b[38;5;28;01mraise\u001b[39;00m TranspilerError(ex\u001b[38;5;241m.\u001b[39mmessage) \u001b[38;5;28;01mfrom\u001b[39;00m \u001b[38;5;21;01mex\u001b[39;00m\n",
      "File \u001b[0;32m/opt/anaconda3/lib/python3.11/site-packages/qiskit/utils/deprecation.py:183\u001b[0m, in \u001b[0;36mdeprecate_arg.<locals>.decorator.<locals>.wrapper\u001b[0;34m(*args, **kwargs)\u001b[0m\n\u001b[1;32m    170\u001b[0m \u001b[38;5;129m@functools\u001b[39m\u001b[38;5;241m.\u001b[39mwraps(func)\n\u001b[1;32m    171\u001b[0m \u001b[38;5;28;01mdef\u001b[39;00m \u001b[38;5;21mwrapper\u001b[39m(\u001b[38;5;241m*\u001b[39margs, \u001b[38;5;241m*\u001b[39m\u001b[38;5;241m*\u001b[39mkwargs):\n\u001b[1;32m    172\u001b[0m     _maybe_warn_and_rename_kwarg(\n\u001b[1;32m    173\u001b[0m         args,\n\u001b[1;32m    174\u001b[0m         kwargs,\n\u001b[0;32m   (...)\u001b[0m\n\u001b[1;32m    181\u001b[0m         predicate\u001b[38;5;241m=\u001b[39mpredicate,\n\u001b[1;32m    182\u001b[0m     )\n\u001b[0;32m--> 183\u001b[0m     \u001b[38;5;28;01mreturn\u001b[39;00m func(\u001b[38;5;241m*\u001b[39margs, \u001b[38;5;241m*\u001b[39m\u001b[38;5;241m*\u001b[39mkwargs)\n",
      "File \u001b[0;32m/opt/anaconda3/lib/python3.11/site-packages/qiskit/transpiler/passmanager.py:154\u001b[0m, in \u001b[0;36mPassManager.append\u001b[0;34m(self, passes, max_iteration, **flow_controller_conditions)\u001b[0m\n\u001b[1;32m    147\u001b[0m \u001b[38;5;28mself\u001b[39m\u001b[38;5;241m.\u001b[39m_pass_sets\u001b[38;5;241m.\u001b[39mappend(\n\u001b[1;32m    148\u001b[0m     {\n\u001b[1;32m    149\u001b[0m         \u001b[38;5;124m\"\u001b[39m\u001b[38;5;124mpasses\u001b[39m\u001b[38;5;124m\"\u001b[39m: passes,\n\u001b[1;32m    150\u001b[0m         \u001b[38;5;124m\"\u001b[39m\u001b[38;5;124mflow_controllers\u001b[39m\u001b[38;5;124m\"\u001b[39m: flow_controller_conditions,\n\u001b[1;32m    151\u001b[0m     }\n\u001b[1;32m    152\u001b[0m )\n\u001b[1;32m    153\u001b[0m \u001b[38;5;28;01mif\u001b[39;00m flow_controller_conditions:\n\u001b[0;32m--> 154\u001b[0m     passes \u001b[38;5;241m=\u001b[39m _legacy_build_flow_controller(\n\u001b[1;32m    155\u001b[0m         passes,\n\u001b[1;32m    156\u001b[0m         options\u001b[38;5;241m=\u001b[39m{\u001b[38;5;124m\"\u001b[39m\u001b[38;5;124mmax_iteration\u001b[39m\u001b[38;5;124m\"\u001b[39m: \u001b[38;5;28mself\u001b[39m\u001b[38;5;241m.\u001b[39mmax_iteration},\n\u001b[1;32m    157\u001b[0m         \u001b[38;5;241m*\u001b[39m\u001b[38;5;241m*\u001b[39mflow_controller_conditions,\n\u001b[1;32m    158\u001b[0m     )\n\u001b[1;32m    160\u001b[0m \u001b[38;5;28msuper\u001b[39m()\u001b[38;5;241m.\u001b[39mappend(passes)\n",
      "File \u001b[0;32m/opt/anaconda3/lib/python3.11/site-packages/qiskit/transpiler/passmanager.py:582\u001b[0m, in \u001b[0;36m_legacy_build_flow_controller\u001b[0;34m(tasks, options, **flow_controller_conditions)\u001b[0m\n\u001b[1;32m    571\u001b[0m         callback(\n\u001b[1;32m    572\u001b[0m             pass_\u001b[38;5;241m=\u001b[39mtask,\n\u001b[1;32m    573\u001b[0m             dag\u001b[38;5;241m=\u001b[39mpassmanager_ir,\n\u001b[0;32m   (...)\u001b[0m\n\u001b[1;32m    576\u001b[0m             count\u001b[38;5;241m=\u001b[39mcount,\n\u001b[1;32m    577\u001b[0m         )\n\u001b[1;32m    579\u001b[0m     \u001b[38;5;28;01mreturn\u001b[39;00m _wrapped_callable\n\u001b[0;32m--> 582\u001b[0m \u001b[38;5;28;01mdef\u001b[39;00m \u001b[38;5;21m_legacy_build_flow_controller\u001b[39m(\n\u001b[1;32m    583\u001b[0m     tasks: \u001b[38;5;28mlist\u001b[39m[Task],\n\u001b[1;32m    584\u001b[0m     options: \u001b[38;5;28mdict\u001b[39m[\u001b[38;5;28mstr\u001b[39m, Any],\n\u001b[1;32m    585\u001b[0m     \u001b[38;5;241m*\u001b[39m\u001b[38;5;241m*\u001b[39mflow_controller_conditions,\n\u001b[1;32m    586\u001b[0m ) \u001b[38;5;241m-\u001b[39m\u001b[38;5;241m>\u001b[39m BaseController:\n\u001b[1;32m    587\u001b[0m \u001b[38;5;250m    \u001b[39m\u001b[38;5;124;03m\"\"\"A legacy method to build flow controller with keyword arguments.\u001b[39;00m\n\u001b[1;32m    588\u001b[0m \n\u001b[1;32m    589\u001b[0m \u001b[38;5;124;03m    Args:\u001b[39;00m\n\u001b[0;32m   (...)\u001b[0m\n\u001b[1;32m    595\u001b[0m \u001b[38;5;124;03m        A built controller.\u001b[39;00m\n\u001b[1;32m    596\u001b[0m \u001b[38;5;124;03m    \"\"\"\u001b[39;00m\n\u001b[1;32m    597\u001b[0m     warnings\u001b[38;5;241m.\u001b[39mwarn(\n\u001b[1;32m    598\u001b[0m         \u001b[38;5;124m\"\u001b[39m\u001b[38;5;124mBuilding a flow controller with keyword arguments is going to be deprecated. \u001b[39m\u001b[38;5;124m\"\u001b[39m\n\u001b[1;32m    599\u001b[0m         \u001b[38;5;124m\"\u001b[39m\u001b[38;5;124mCustom controllers must be explicitly instantiated and appended to the task list.\u001b[39m\u001b[38;5;124m\"\u001b[39m,\n\u001b[1;32m    600\u001b[0m         \u001b[38;5;167;01mPendingDeprecationWarning\u001b[39;00m,\n\u001b[1;32m    601\u001b[0m         stacklevel\u001b[38;5;241m=\u001b[39m\u001b[38;5;241m3\u001b[39m,\n\u001b[1;32m    602\u001b[0m     )\n",
      "\u001b[0;31mKeyboardInterrupt\u001b[0m: "
     ]
    }
   ],
   "source": [
    "# ------------------------------------------------------------------------------------------\n",
    "# THIS SECTION WE DO THE TUNING FOR WHAT WE KNOW WE WANT TO BE CHANGING!\n",
    "# ------------------------------------------------------------------------------------------\n",
    "\n",
    "q = 5  # Number of qubits = Dimensionality of data = round up to even number = num qubits\n",
    "c = 1\n",
    "circ = QuantumCircuit(q, c)\n",
    "circ.h(0)\n",
    "layer_style = \"Dual\"\n",
    "train_var_0 = init_random_variables(q // 2, layer_style)\n",
    "train_var_1 = init_random_variables(q // 2, layer_style)\n",
    "train_var_2 = init_random_variables(q // 2, layer_style)\n",
    "\n",
    "tracked_d_loss = []\n",
    "tracked_d_loss1 = []\n",
    "tracked_d_loss2 = []\n",
    "gradients = []\n",
    "learning_rate = 0.01\n",
    "train_iter = 25\n",
    "corr = 0\n",
    "wrong = 0\n",
    "loss_d_to_real = 0\n",
    "print('Starting Training')\n",
    "print('-' * 20)\n",
    "print(\"train_var_0 training\")\n",
    "for epoch in range(train_iter):\n",
    "    start = time.time()\n",
    "    loss = [0, 0]\n",
    "    par_shift = 0.5 * np.pi / ((1 + epoch) ** 0.5)\n",
    "    for index, point in enumerate(pca_data_rot3):\n",
    "        for key, value in train_var_0.items():\n",
    "            if str(q // 2 + 1) in key:\n",
    "                break\n",
    "            for key_value in range(len(value)):\n",
    "                forward_diff = -np.log(get_probabilities(\n",
    "                    disc_real_training_circuit(train_var_0, point, key, key_value, diff=True, fwd_diff=True)))\n",
    "                backward_diff = -np.log(get_probabilities(\n",
    "                    disc_real_training_circuit(train_var_0, point, key, key_value, diff=True, fwd_diff=False)))\n",
    "                df = 0.5 * (forward_diff - backward_diff)\n",
    "                train_var_0[key][key_value] -= df * learning_rate\n",
    "    print('Time for Epoch {} is {} sec'.format(epoch + 1, time.time() - start))\n",
    "    print(\"-\" * 20)\n",
    "    save_variables(train_var_0, epoch, 3)\n",
    "\n",
    "for epoch in range(train_iter):\n",
    "    start = time.time()\n",
    "    loss = [0, 0]\n",
    "    par_shift = 0.5 * np.pi / ((1 + epoch) ** 0.5)\n",
    "    for index, point in enumerate(pca_data_rot6):\n",
    "        for key, value in train_var_1.items():\n",
    "            if str(q // 2 + 1) in key:\n",
    "                break\n",
    "            for key_value in range(len(value)):\n",
    "                forward_diff = -np.log(get_probabilities(\n",
    "                    disc_real_training_circuit(train_var_1, point, key, key_value, diff=True, fwd_diff=True)))\n",
    "                backward_diff = -np.log(get_probabilities(\n",
    "                    disc_real_training_circuit(train_var_1, point, key, key_value, diff=True, fwd_diff=False)))\n",
    "                df = 0.5 * (forward_diff - backward_diff)\n",
    "                train_var_1[key][key_value] -= df * learning_rate\n",
    "    print('Time for Epoch {} is {} sec'.format(epoch + 1, time.time() - start))\n",
    "    print(\"-\" * 20)\n",
    "    save_variables(train_var_1, epoch, 6)\n",
    "\n",
    "#CHANGE PCA_DATA_ROT VARS HERE\n",
    "pca_data = []\n",
    "[pca_data.append(x) for x in pca_data_rot3]\n",
    "[pca_data.append(x) for x in pca_data_rot6]\n",
    "labels = []\n",
    "[labels.append(0) for _ in range(len(pca_data_rot3))]\n",
    "[labels.append(1) for _ in range(len(pca_data_rot6))]\n",
    "\n",
    "correct = 0\n",
    "wrong = 0\n",
    "ones = []\n",
    "zeros = []\n",
    "layer_style = 'Dual'\n",
    "\n",
    "ones_predicted = 0\n",
    "zeros_predicted = 0\n",
    "\n",
    "for index, x in enumerate(pca_data):\n",
    "    p0 = get_probabilities(disc_real_training_circuit(train_var_0, x, None, None, diff=False, fwd_diff=False))\n",
    "    p1 = get_probabilities(disc_real_training_circuit(train_var_1, x, None, None, diff=False, fwd_diff=False))\n",
    "    tp = p0 + p1\n",
    "    p0 = p0 / tp\n",
    "    p1 = p1 / tp\n",
    "    probs = np.array([p0, p1])\n",
    "    if np.argmax(probs) == labels[index]:\n",
    "        correct += 1\n",
    "    else:\n",
    "        wrong += 1\n",
    "\n",
    "    if np.argmax(probs) == 1:\n",
    "        ones_predicted += 1\n",
    "    else:\n",
    "        zeros_predicted += 1\n",
    "\n",
    "print(\"Ones predicted\", ones_predicted, \"Zeros predicted\", zeros_predicted)\n",
    "print(f\"Accuracy {correct / (correct + wrong)}\")"
   ]
  },
  {
   "cell_type": "code",
   "execution_count": 58,
   "id": "ab9352ae-4eb0-412a-8188-38eaa7dca7b2",
   "metadata": {},
   "outputs": [
    {
     "data": {
      "text/html": [
       "<pre style=\"word-wrap: normal;white-space: pre;background: #fff0;line-height: 1.1;font-family: &quot;Courier New&quot;,Courier,monospace\">         ┌───┐         ┌───┐                                        ┌───┐┌─┐\n",
       "q_0: ────┤ X ├─────────┤ H ├───────────────────────────────────■──■─┤ H ├┤M├\n",
       "     ┌───┴───┴────┐┌───┴───┴───┐ ┌──────────────┐              │  │ └───┘└╥┘\n",
       "q_1: ┤ Ry(3.5251) ├┤ Rz(5.882) ├─┤0             ├─■────────────X──┼───────╫─\n",
       "     ├────────────┤├───────────┴┐│  Ryy(4.6259) │ │ZZ(5.1572)  │  │       ║ \n",
       "q_2: ┤ Ry(4.0935) ├┤ Rz(5.0305) ├┤1             ├─■────────────┼──X───────╫─\n",
       "     └────────────┘└────────────┘└──────────────┘              │  │       ║ \n",
       "q_3: ──────────────────────────────────────────────────────────X──┼───────╫─\n",
       "                                                                  │       ║ \n",
       "q_4: ─────────────────────────────────────────────────────────────X───────╫─\n",
       "                                                                          ║ \n",
       "c: 1/═════════════════════════════════════════════════════════════════════╩═\n",
       "                                                                          0 </pre>"
      ],
      "text/plain": [
       "         ┌───┐         ┌───┐                                        ┌───┐┌─┐\n",
       "q_0: ────┤ X ├─────────┤ H ├───────────────────────────────────■──■─┤ H ├┤M├\n",
       "     ┌───┴───┴────┐┌───┴───┴───┐ ┌──────────────┐              │  │ └───┘└╥┘\n",
       "q_1: ┤ Ry(3.5251) ├┤ Rz(5.882) ├─┤0             ├─■────────────X──┼───────╫─\n",
       "     ├────────────┤├───────────┴┐│  Ryy(4.6259) │ │ZZ(5.1572)  │  │       ║ \n",
       "q_2: ┤ Ry(4.0935) ├┤ Rz(5.0305) ├┤1             ├─■────────────┼──X───────╫─\n",
       "     └────────────┘└────────────┘└──────────────┘              │  │       ║ \n",
       "q_3: ──────────────────────────────────────────────────────────X──┼───────╫─\n",
       "                                                                  │       ║ \n",
       "q_4: ─────────────────────────────────────────────────────────────X───────╫─\n",
       "                                                                          ║ \n",
       "c: 1/═════════════════════════════════════════════════════════════════════╩═\n",
       "                                                                          0 "
      ]
     },
     "execution_count": 58,
     "metadata": {},
     "output_type": "execute_result"
    }
   ],
   "source": [
    "disc_real_training_circuit(train_var_0, point, key, key_value, diff=True, fwd_diff=False).draw()"
   ]
  },
  {
   "cell_type": "code",
   "execution_count": 56,
   "id": "f95d75ac-1b96-4935-bb4b-b3e7abb041ab",
   "metadata": {},
   "outputs": [
    {
     "data": {
      "text/html": [
       "<pre style=\"word-wrap: normal;white-space: pre;background: #fff0;line-height: 1.1;font-family: &quot;Courier New&quot;,Courier,monospace\">          ┌───┐          ┌───┐                                        ┌───┐┌─┐\n",
       "q_0: ─────┤ X ├──────────┤ H ├───────────────────────────────────■──■─┤ H ├┤M├\n",
       "     ┌────┴───┴────┐┌────┴───┴─────┐┌─────────────┐              │  │ └───┘└╥┘\n",
       "q_1: ┤ Ry(0.73032) ├┤ Rz(-0.44035) ├┤0            ├─■────────────X──┼───────╫─\n",
       "     └┬────────────┤└┬────────────┬┘│  Ryy(4.312) │ │ZZ(4.2482)  │  │       ║ \n",
       "q_2: ─┤ Ry(1.1804) ├─┤ Rz(5.6328) ├─┤1            ├─■────────────┼──X───────╫─\n",
       "      └────────────┘ └────────────┘ └─────────────┘              │  │       ║ \n",
       "q_3: ────────────────────────────────────────────────────────────X──┼───────╫─\n",
       "                                                                    │       ║ \n",
       "q_4: ───────────────────────────────────────────────────────────────X───────╫─\n",
       "                                                                            ║ \n",
       "c: 1/═══════════════════════════════════════════════════════════════════════╩═\n",
       "                                                                            0 </pre>"
      ],
      "text/plain": [
       "          ┌───┐          ┌───┐                                        ┌───┐┌─┐\n",
       "q_0: ─────┤ X ├──────────┤ H ├───────────────────────────────────■──■─┤ H ├┤M├\n",
       "     ┌────┴───┴────┐┌────┴───┴─────┐┌─────────────┐              │  │ └───┘└╥┘\n",
       "q_1: ┤ Ry(0.73032) ├┤ Rz(-0.44035) ├┤0            ├─■────────────X──┼───────╫─\n",
       "     └┬────────────┤└┬────────────┬┘│  Ryy(4.312) │ │ZZ(4.2482)  │  │       ║ \n",
       "q_2: ─┤ Ry(1.1804) ├─┤ Rz(5.6328) ├─┤1            ├─■────────────┼──X───────╫─\n",
       "      └────────────┘ └────────────┘ └─────────────┘              │  │       ║ \n",
       "q_3: ────────────────────────────────────────────────────────────X──┼───────╫─\n",
       "                                                                    │       ║ \n",
       "q_4: ───────────────────────────────────────────────────────────────X───────╫─\n",
       "                                                                            ║ \n",
       "c: 1/═══════════════════════════════════════════════════════════════════════╩═\n",
       "                                                                            0 "
      ]
     },
     "execution_count": 56,
     "metadata": {},
     "output_type": "execute_result"
    }
   ],
   "source": [
    "disc_real_training_circuit(train_var_0, point, key, key_value, diff=True, fwd_diff=False).draw()"
   ]
  },
  {
   "cell_type": "code",
   "execution_count": 28,
   "id": "e1eb2b9a-f4b7-4f4b-b3f6-4010cb0296b5",
   "metadata": {},
   "outputs": [
    {
     "data": {
      "text/html": [
       "<pre style=\"word-wrap: normal;white-space: pre;background: #fff0;line-height: 1.1;font-family: &quot;Courier New&quot;,Courier,monospace\">         ┌───┐         ┌───┐                                        ┌───┐┌─┐\n",
       "q_0: ────┤ X ├─────────┤ H ├───────────────────────────────────■──■─┤ H ├┤M├\n",
       "     ┌───┴───┴────┐┌───┴───┴────┐┌──────────────┐              │  │ └───┘└╥┘\n",
       "q_1: ┤ Ry(5.9965) ├┤ Rz(2.9769) ├┤0             ├─■────────────X──┼───────╫─\n",
       "     ├────────────┤├────────────┤│  Ryy(3.5542) │ │ZZ(2.3813)  │  │       ║ \n",
       "q_2: ┤ Ry(5.9045) ├┤ Rz(4.3093) ├┤1             ├─■────────────┼──X───────╫─\n",
       "     └────────────┘└────────────┘└──────────────┘              │  │       ║ \n",
       "q_3: ──────────────────────────────────────────────────────────X──┼───────╫─\n",
       "                                                                  │       ║ \n",
       "q_4: ─────────────────────────────────────────────────────────────X───────╫─\n",
       "                                                                          ║ \n",
       "c: 1/═════════════════════════════════════════════════════════════════════╩═\n",
       "                                                                          0 </pre>"
      ],
      "text/plain": [
       "         ┌───┐         ┌───┐                                        ┌───┐┌─┐\n",
       "q_0: ────┤ X ├─────────┤ H ├───────────────────────────────────■──■─┤ H ├┤M├\n",
       "     ┌───┴───┴────┐┌───┴───┴────┐┌──────────────┐              │  │ └───┘└╥┘\n",
       "q_1: ┤ Ry(5.9965) ├┤ Rz(2.9769) ├┤0             ├─■────────────X──┼───────╫─\n",
       "     ├────────────┤├────────────┤│  Ryy(3.5542) │ │ZZ(2.3813)  │  │       ║ \n",
       "q_2: ┤ Ry(5.9045) ├┤ Rz(4.3093) ├┤1             ├─■────────────┼──X───────╫─\n",
       "     └────────────┘└────────────┘└──────────────┘              │  │       ║ \n",
       "q_3: ──────────────────────────────────────────────────────────X──┼───────╫─\n",
       "                                                                  │       ║ \n",
       "q_4: ─────────────────────────────────────────────────────────────X───────╫─\n",
       "                                                                          ║ \n",
       "c: 1/═════════════════════════════════════════════════════════════════════╩═\n",
       "                                                                          0 "
      ]
     },
     "execution_count": 28,
     "metadata": {},
     "output_type": "execute_result"
    }
   ],
   "source": [
    "disc_real_training_circuit(train_var_0, point, key, key_value, diff=True, fwd_diff=False).draw()"
   ]
  },
  {
   "cell_type": "code",
   "execution_count": 52,
   "id": "0103dee2-c8b1-4a26-a820-b73d516148b5",
   "metadata": {},
   "outputs": [
    {
     "data": {
      "text/html": [
       "<pre style=\"word-wrap: normal;white-space: pre;background: #fff0;line-height: 1.1;font-family: &quot;Courier New&quot;,Courier,monospace\">         ┌───┐          ┌───┐                                         ┌───┐┌─┐\n",
       "q_0: ────┤ H ├──────────┤ X ├────────────────────────────────────■──■─┤ H ├┤M├\n",
       "     ┌───┴───┴───┐  ┌───┴───┴────┐ ┌──────────────┐              │  │ └───┘└╥┘\n",
       "q_1: ┤ Ry(5.184) ├──┤ Rz(1.5951) ├─┤0             ├─■────────────X──┼───────╫─\n",
       "     ├───────────┴┐┌┴────────────┴┐│  Ryy(5.8599) │ │ZZ(1.1723)  │  │       ║ \n",
       "q_2: ┤ Ry(5.8608) ├┤ Rz(-0.30728) ├┤1             ├─■────────────┼──X───────╫─\n",
       "     └────────────┘└──────────────┘└──────────────┘              │  │       ║ \n",
       "q_3: ────────────────────────────────────────────────────────────X──┼───────╫─\n",
       "                                                                    │       ║ \n",
       "q_4: ───────────────────────────────────────────────────────────────X───────╫─\n",
       "                                                                            ║ \n",
       "c: 1/═══════════════════════════════════════════════════════════════════════╩═\n",
       "                                                                            0 </pre>"
      ],
      "text/plain": [
       "         ┌───┐          ┌───┐                                         ┌───┐┌─┐\n",
       "q_0: ────┤ H ├──────────┤ X ├────────────────────────────────────■──■─┤ H ├┤M├\n",
       "     ┌───┴───┴───┐  ┌───┴───┴────┐ ┌──────────────┐              │  │ └───┘└╥┘\n",
       "q_1: ┤ Ry(5.184) ├──┤ Rz(1.5951) ├─┤0             ├─■────────────X──┼───────╫─\n",
       "     ├───────────┴┐┌┴────────────┴┐│  Ryy(5.8599) │ │ZZ(1.1723)  │  │       ║ \n",
       "q_2: ┤ Ry(5.8608) ├┤ Rz(-0.30728) ├┤1             ├─■────────────┼──X───────╫─\n",
       "     └────────────┘└──────────────┘└──────────────┘              │  │       ║ \n",
       "q_3: ────────────────────────────────────────────────────────────X──┼───────╫─\n",
       "                                                                    │       ║ \n",
       "q_4: ───────────────────────────────────────────────────────────────X───────╫─\n",
       "                                                                            ║ \n",
       "c: 1/═══════════════════════════════════════════════════════════════════════╩═\n",
       "                                                                            0 "
      ]
     },
     "execution_count": 52,
     "metadata": {},
     "output_type": "execute_result"
    }
   ],
   "source": [
    "disc_real_training_circuit(train_var_1, point, key, key_value, diff=True, fwd_diff=False).draw()"
   ]
  },
  {
   "cell_type": "code",
   "execution_count": 49,
   "id": "682371a5-2283-4107-9219-fed9607a360e",
   "metadata": {},
   "outputs": [
    {
     "name": "stdout",
     "output_type": "stream",
     "text": [
      "1\n"
     ]
    },
    {
     "data": {
      "text/html": [
       "<pre style=\"word-wrap: normal;white-space: pre;background: #fff0;line-height: 1.1;font-family: &quot;Courier New&quot;,Courier,monospace\">          ┌───┐           ┌───┐                                        ┌───┐┌─┐\n",
       "q_0: ─────┤ H ├───────────┤ X ├───────────────────────────────────■──■─┤ H ├┤M├\n",
       "     ┌────┴───┴─────┐┌────┴───┴────┐┌──────────────┐              │  │ └───┘└╥┘\n",
       "q_1: ┤ Ry(0.011768) ├┤ Rz(0.82024) ├┤0             ├─■────────────X──┼───────╫─\n",
       "     ├──────────────┤└┬────────────┤│  Ryy(6.0285) │ │ZZ(2.2169)  │  │       ║ \n",
       "q_2: ┤ Ry(-0.84384) ├─┤ Rz(4.3926) ├┤1             ├─■────────────┼──X───────╫─\n",
       "     └──────────────┘ └────────────┘└──────────────┘              │  │       ║ \n",
       "q_3: ─────────────────────────────────────────────────────────────X──┼───────╫─\n",
       "                                                                     │       ║ \n",
       "q_4: ────────────────────────────────────────────────────────────────X───────╫─\n",
       "                                                                             ║ \n",
       "c: 1/════════════════════════════════════════════════════════════════════════╩═\n",
       "                                                                             0 </pre>"
      ],
      "text/plain": [
       "          ┌───┐           ┌───┐                                        ┌───┐┌─┐\n",
       "q_0: ─────┤ H ├───────────┤ X ├───────────────────────────────────■──■─┤ H ├┤M├\n",
       "     ┌────┴───┴─────┐┌────┴───┴────┐┌──────────────┐              │  │ └───┘└╥┘\n",
       "q_1: ┤ Ry(0.011768) ├┤ Rz(0.82024) ├┤0             ├─■────────────X──┼───────╫─\n",
       "     ├──────────────┤└┬────────────┤│  Ryy(6.0285) │ │ZZ(2.2169)  │  │       ║ \n",
       "q_2: ┤ Ry(-0.84384) ├─┤ Rz(4.3926) ├┤1             ├─■────────────┼──X───────╫─\n",
       "     └──────────────┘ └────────────┘└──────────────┘              │  │       ║ \n",
       "q_3: ─────────────────────────────────────────────────────────────X──┼───────╫─\n",
       "                                                                     │       ║ \n",
       "q_4: ────────────────────────────────────────────────────────────────X───────╫─\n",
       "                                                                             ║ \n",
       "c: 1/════════════════════════════════════════════════════════════════════════╩═\n",
       "                                                                             0 "
      ]
     },
     "execution_count": 49,
     "metadata": {},
     "output_type": "execute_result"
    }
   ],
   "source": [
    "disc_real_training_circuit(train_var_0, point, key, key_value, diff=True, fwd_diff=False).draw()"
   ]
  },
  {
   "cell_type": "code",
   "execution_count": null,
   "id": "f3ff3af8-b658-4c57-a72a-0334f48cb49d",
   "metadata": {},
   "outputs": [],
   "source": []
  }
 ],
 "metadata": {
  "kernelspec": {
   "display_name": "Python 3 (ipykernel)",
   "language": "python",
   "name": "python3"
  },
  "language_info": {
   "codemirror_mode": {
    "name": "ipython",
    "version": 3
   },
   "file_extension": ".py",
   "mimetype": "text/x-python",
   "name": "python",
   "nbconvert_exporter": "python",
   "pygments_lexer": "ipython3",
   "version": "3.11.7"
  }
 },
 "nbformat": 4,
 "nbformat_minor": 5
}
